{
 "cells": [
  {
   "cell_type": "code",
   "execution_count": 5,
   "metadata": {},
   "outputs": [],
   "source": [
    "from __future__ import print_function\n",
    "import argparse\n",
    "import torch\n",
    "import torch.nn as nn\n",
    "import torch.nn.functional as F\n",
    "import torch.optim as optim\n",
    "from torchvision import datasets, transforms\n",
    "from torch.optim.lr_scheduler import StepLR"
   ]
  },
  {
   "cell_type": "code",
   "execution_count": 6,
   "metadata": {},
   "outputs": [
    {
     "ename": "NameError",
     "evalue": "name 'Image' is not defined",
     "output_type": "error",
     "traceback": [
      "\u001b[0;31m---------------------------------------------------------------------------\u001b[0m",
      "\u001b[0;31mNameError\u001b[0m                                 Traceback (most recent call last)",
      "\u001b[1;32m/workspace/src/test.ipynb Cell 2'\u001b[0m in \u001b[0;36m<cell line: 2>\u001b[0;34m()\u001b[0m\n\u001b[1;32m      <a href='vscode-notebook-cell://attached-container%2B7b22636f6e7461696e65724e616d65223a222f6d795f646f636b6572227d/workspace/src/test.ipynb#ch0000001vscode-remote?line=0'>1</a>\u001b[0m \u001b[39m##normalizeなし##\u001b[39;00m\n\u001b[0;32m----> <a href='vscode-notebook-cell://attached-container%2B7b22636f6e7461696e65724e616d65223a222f6d795f646f636b6572227d/workspace/src/test.ipynb#ch0000001vscode-remote?line=1'>2</a>\u001b[0m img \u001b[39m=\u001b[39m Image\u001b[39m.\u001b[39mopen(\u001b[39mr\u001b[39m\u001b[39m\"\u001b[39m\u001b[39mtest.png\u001b[39m\u001b[39m\"\u001b[39m)\n\u001b[1;32m      <a href='vscode-notebook-cell://attached-container%2B7b22636f6e7461696e65724e616d65223a222f6d795f646f636b6572227d/workspace/src/test.ipynb#ch0000001vscode-remote?line=2'>3</a>\u001b[0m normalize \u001b[39m=\u001b[39m transforms\u001b[39m.\u001b[39mNormalize(\n\u001b[1;32m      <a href='vscode-notebook-cell://attached-container%2B7b22636f6e7461696e65724e616d65223a222f6d795f646f636b6572227d/workspace/src/test.ipynb#ch0000001vscode-remote?line=3'>4</a>\u001b[0m \tmean\u001b[39m=\u001b[39m[\u001b[39m0.5\u001b[39m, \u001b[39m0.5\u001b[39m, \u001b[39m0.5\u001b[39m],\n\u001b[1;32m      <a href='vscode-notebook-cell://attached-container%2B7b22636f6e7461696e65724e616d65223a222f6d795f646f636b6572227d/workspace/src/test.ipynb#ch0000001vscode-remote?line=4'>5</a>\u001b[0m         std\u001b[39m=\u001b[39m[\u001b[39m0.25\u001b[39m, \u001b[39m0.25\u001b[39m, \u001b[39m0.25\u001b[39m]\n\u001b[1;32m      <a href='vscode-notebook-cell://attached-container%2B7b22636f6e7461696e65724e616d65223a222f6d795f646f636b6572227d/workspace/src/test.ipynb#ch0000001vscode-remote?line=5'>6</a>\u001b[0m         )\n\u001b[1;32m      <a href='vscode-notebook-cell://attached-container%2B7b22636f6e7461696e65724e616d65223a222f6d795f646f636b6572227d/workspace/src/test.ipynb#ch0000001vscode-remote?line=6'>7</a>\u001b[0m preprocess \u001b[39m=\u001b[39m transforms\u001b[39m.\u001b[39mCompose([\n\u001b[1;32m      <a href='vscode-notebook-cell://attached-container%2B7b22636f6e7461696e65724e616d65223a222f6d795f646f636b6572227d/workspace/src/test.ipynb#ch0000001vscode-remote?line=7'>8</a>\u001b[0m         transforms\u001b[39m.\u001b[39mToTensor()\n\u001b[1;32m      <a href='vscode-notebook-cell://attached-container%2B7b22636f6e7461696e65724e616d65223a222f6d795f646f636b6572227d/workspace/src/test.ipynb#ch0000001vscode-remote?line=8'>9</a>\u001b[0m         \u001b[39m#normalize\u001b[39;00m\n\u001b[1;32m     <a href='vscode-notebook-cell://attached-container%2B7b22636f6e7461696e65724e616d65223a222f6d795f646f636b6572227d/workspace/src/test.ipynb#ch0000001vscode-remote?line=9'>10</a>\u001b[0m         ])\n",
      "\u001b[0;31mNameError\u001b[0m: name 'Image' is not defined"
     ]
    }
   ],
   "source": [
    "##normalizeなし##\n",
    "img = Image.open(r\"test.png\")\n",
    "normalize = transforms.Normalize(\n",
    "\tmean=[0.5, 0.5, 0.5],\n",
    "        std=[0.25, 0.25, 0.25]\n",
    "        )\n",
    "preprocess = transforms.Compose([\n",
    "        transforms.ToTensor()\n",
    "        #normalize\n",
    "        ])\n",
    "img = preprocess(img)\n",
    "print(img.max())\n",
    "#tensor(0.9686)\n",
    "print(img.min())\n",
    "#tensor(0.)\n",
    "#0→1になっていますね"
   ]
  }
 ],
 "metadata": {
  "kernelspec": {
   "display_name": "Python 3.9.5 64-bit",
   "language": "python",
   "name": "python3"
  },
  "language_info": {
   "codemirror_mode": {
    "name": "ipython",
    "version": 3
   },
   "file_extension": ".py",
   "mimetype": "text/x-python",
   "name": "python",
   "nbconvert_exporter": "python",
   "pygments_lexer": "ipython3",
   "version": "3.9.5"
  },
  "orig_nbformat": 4,
  "vscode": {
   "interpreter": {
    "hash": "f9f85f796d01129d0dd105a088854619f454435301f6ffec2fea96ecbd9be4ac"
   }
  }
 },
 "nbformat": 4,
 "nbformat_minor": 2
}
