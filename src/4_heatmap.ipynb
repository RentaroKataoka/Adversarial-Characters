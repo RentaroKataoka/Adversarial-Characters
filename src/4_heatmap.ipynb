{
 "cells": [
  {
   "cell_type": "code",
   "execution_count": 56,
   "metadata": {},
   "outputs": [],
   "source": [
    "import numpy as np\n",
    "import matplotlib.pyplot as plt\n",
    "from PIL import Image\n",
    "import os\n",
    "import cv2\n",
    "import shutil\n",
    "import glob"
   ]
  },
  {
   "cell_type": "code",
   "execution_count": 57,
   "metadata": {},
   "outputs": [],
   "source": [
    "dirname_grad = \"../org+adv/grad/\"\n",
    "dirname_adv = \"../org+adv/adv/\"\n",
    "for i in [4]:\n",
    "    for j in range(1, sum(os.path.isfile(os.path.join(dirname_grad + str(i), name)) for name in os.listdir(dirname_grad + str(i))) + 1):\n",
    "        for k in range(10):\n",
    "            if os.path.isfile(dirname_adv + \"{}/{}→{}/{}.png\".format(i, i, k, j)) == False:\n",
    "                    continue\n",
    "            shutil.copy(dirname_grad + \"4/{}.png\".format(j), \"../org+adv/4_heatmap/{}\".format(k))\n",
    "\n",
    "for i in range(10):\n",
    "    if i == 4:\n",
    "        continue\n",
    "    flist = glob.glob(\"../org+adv/4_heatmap/{}/*.png\".format(i))    #ソースの写真群がある場所    \n",
    "    sums = cv2.imread(flist.pop()).astype(np.uint32)\n",
    "    for fname in flist:\n",
    "        sums += cv2.imread(fname)\n",
    "    cv2.imwrite(\"../org+adv/{}.png\".format(i), (sums/(len(flist)+1)))    #平均化\n",
    "    "
   ]
  },
  {
   "cell_type": "code",
   "execution_count": 58,
   "metadata": {},
   "outputs": [
    {
     "data": {
      "image/png": "[encoded data removed]",
      "text/plain": [
       "<Figure size 432x288 with 1 Axes>"
      ]
     },
     "metadata": {},
     "output_type": "display_data"
    }
   ],
   "source": [
    "for i in range(10):\n",
    "    if i == 4:\n",
    "        continue\n",
    "    img = Image.open(\"../org+adv/{}.png\".format(i))\n",
    "    plt.xticks([], [])\n",
    "    plt.yticks([], [])\n",
    "    plt.imshow(img)\n",
    "    plt.savefig(\"../org+adv/{}.png\".format(i))"
   ]
  }
 ],
 "metadata": {
  "kernelspec": {
   "display_name": "Python 3.9.5 64-bit",
   "language": "python",
   "name": "python3"
  },
  "language_info": {
   "codemirror_mode": {
    "name": "ipython",
    "version": 3
   },
   "file_extension": ".py",
   "mimetype": "text/x-python",
   "name": "python",
   "nbconvert_exporter": "python",
   "pygments_lexer": "ipython3",
   "version": "3.9.5"
  },
  "orig_nbformat": 4,
  "vscode": {
   "interpreter": {
    "hash": "f9f85f796d01129d0dd105a088854619f454435301f6ffec2fea96ecbd9be4ac"
   }
  }
 },
 "nbformat": 4,
 "nbformat_minor": 2
}
