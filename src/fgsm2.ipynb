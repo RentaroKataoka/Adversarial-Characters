{
 "cells": [
  {
   "cell_type": "code",
   "execution_count": 91,
   "metadata": {},
   "outputs": [],
   "source": [
    "from __future__ import print_function\n",
    "import torch\n",
    "import torch.nn as nn\n",
    "import torch.nn.functional as F\n",
    "import torch.optim as optim\n",
    "from torchvision import datasets, transforms\n",
    "import numpy as np\n",
    "import matplotlib.pyplot as plt\n",
    "import heapq\n",
    "import itertools"
   ]
  },
  {
   "cell_type": "code",
   "execution_count": 92,
   "metadata": {},
   "outputs": [],
   "source": [
    "pretrained_model = \"lenet_mnist_model.pth\" #事前学習済みMNISTモデル(重みパラメータ)\n",
    "use_cuda = True"
   ]
  },
  {
   "cell_type": "code",
   "execution_count": 93,
   "metadata": {},
   "outputs": [
    {
     "name": "stdout",
     "output_type": "stream",
     "text": [
      "CUDA Available:  True\n"
     ]
    },
    {
     "data": {
      "text/plain": [
       "Net(\n",
       "  (conv1): Conv2d(1, 10, kernel_size=(5, 5), stride=(1, 1))\n",
       "  (conv2): Conv2d(10, 20, kernel_size=(5, 5), stride=(1, 1))\n",
       "  (conv2_drop): Dropout2d(p=0.5, inplace=False)\n",
       "  (fc1): Linear(in_features=320, out_features=50, bias=True)\n",
       "  (fc2): Linear(in_features=50, out_features=10, bias=True)\n",
       ")"
      ]
     },
     "execution_count": 93,
     "metadata": {},
     "output_type": "execute_result"
    }
   ],
   "source": [
    "# LeNet Model 定義\n",
    "class Net(nn.Module):\n",
    "    def __init__(self):\n",
    "        super(Net, self).__init__()\n",
    "        self.conv1 = nn.Conv2d(1, 10, kernel_size=5) #畳み込み層nn.Conv2d(入力のチャネル数, 出力のチャネル数，カーネルの1辺のサイズ)\n",
    "        self.conv2 = nn.Conv2d(10, 20, kernel_size=5)\n",
    "        self.conv2_drop = nn.Dropout2d() #過学習を防ぐためにいくつかのノードを無効にする\n",
    "        self.fc1 = nn.Linear(320, 50) #全結合層nn.Linear(入力のサイズ(20channel×4height×4width), 出力サイズ) height, weightについては計算して事前に出す\n",
    "        self.fc2 = nn.Linear(50, 10)\n",
    "\n",
    "    def forward(self, x):\n",
    "        x = F.relu(F.max_pool2d(self.conv1(x), 2)) #活性化関数Relu, Maxプーリング\n",
    "        x = F.relu(F.max_pool2d(self.conv2_drop(self.conv2(x)), 2))\n",
    "        x = x.view(-1, 320) #サイズを調整x.view(-1, 指定するサイズ)\n",
    "        x = F.relu(self.fc1(x))\n",
    "        x = F.dropout(x, training=self.training)\n",
    "        x = self.fc2(x)\n",
    "        return F.log_softmax(x, dim=1)\n",
    "\n",
    "# MNISTのTest datasetと dataloaderの定義\n",
    "test_loader = torch.utils.data.DataLoader(\n",
    "    datasets.MNIST('../data', train=False, download=True, transform=transforms.Compose([\n",
    "            transforms.ToTensor(),\n",
    "            ])), \n",
    "        batch_size=1, shuffle=False)\n",
    "\n",
    "# 使うデバイス（CPUかGPUか）の定義\n",
    "print(\"CUDA Available: \",torch.cuda.is_available())\n",
    "device = torch.device(\"cuda\" if (use_cuda and torch.cuda.is_available()) else \"cpu\")\n",
    "\n",
    "# ネットワークの初期化\n",
    "model = Net().to(device)\n",
    "\n",
    "# 訓練済みモデルのロード\n",
    "model.load_state_dict(torch.load(pretrained_model, map_location='cpu'))\n",
    "\n",
    "# モデルを評価モードに設定。本チュートリアルの例では、これはドロップアウト層等を評価モードにするのに必要\n",
    "model.eval()"
   ]
  },
  {
   "cell_type": "code",
   "execution_count": 4,
   "metadata": {},
   "outputs": [],
   "source": [
    "# FGSM による攻撃用のコード\n",
    "def fgsm_attack(image,  data_grad):\n",
    "    # データの勾配の各要素のsign値を取得します\n",
    "    sign_data_grad = data_grad.sign()\n",
    "    # 入力画像の各ピクセルを調整して、ノイズが追加された画像を作成します\n",
    "    perturbed_image = image + 0.1*sign_data_grad\n",
    "    # [0,1]の範囲になるようデータをクリップします\n",
    "    perturbed_image = torch.clamp(perturbed_image, 0, 1)\n",
    "    # ノイズが追加された画像を返します\n",
    "    return perturbed_image"
   ]
  },
  {
   "cell_type": "code",
   "execution_count": 17,
   "metadata": {},
   "outputs": [],
   "source": [
    "def fgsm_attack(image, data_grad):\n",
    "    data_grad_sum = 0\n",
    "    for i in data_grad[0][0]:\n",
    "        for j in i:\n",
    "            data_grad_sum += j\n",
    "    \n",
    "    data_grad_avg = data_grad_sum / (28 * 28)\n",
    "    perturbed_image = image + (data_grad > data_grad_avg * 10).float() - (data_grad < -data_grad_avg * 10).float()\n",
    "    perturbed_image = torch.clamp(perturbed_image, 0, 1)\n",
    "    return perturbed_image"
   ]
  },
  {
   "cell_type": "code",
   "execution_count": 87,
   "metadata": {},
   "outputs": [],
   "source": [
    "def fgsm_attack(image, data_grad):\n",
    "    data_grad_chain = list(itertools.chain.from_iterable(data_grad[0][0]))\n",
    "    threshold_p = heapq.nlargest(25, data_grad_chain)[24]\n",
    "    threshold_n = heapq.nsmallest(25, data_grad_chain)[24] \n",
    "    # threshold_p = torch.Tensor([heapq.nlargest(15, data_grad_chain)[14]]).to(\"cuda\")\n",
    "    # threshold_n = torch.Tensor([heapq.nsmallest(15, data_grad_chain)[14]]).to(\"cuda\")\n",
    "    # for i in range(28):\n",
    "    #     for j in range(28):\n",
    "    #         if data_grad[0][0][i][j] >= threshold_p:\n",
    "    #             image[0][0][i][j] = torch.Tensor([1]).to(\"cuda\")\n",
    "    #         if data_grad[0][0][i][j] <= threshold_n:\n",
    "    #             image[0][0][i][j] = torch.Tensor([-1]).to(\"cuda\")\n",
    "    # perturbed_image = image + (data_grad[0][0] >= threshold_p).float() - (data_grad[0][0] <= threshold_n).float()\n",
    "    perturbed_image = image + (data_grad >= threshold_p).float() - (data_grad <= threshold_n).float()\n",
    "    perturbed_image = torch.clamp(perturbed_image, 0, 1)\n",
    "    return perturbed_image"
   ]
  },
  {
   "cell_type": "code",
   "execution_count": 110,
   "metadata": {},
   "outputs": [],
   "source": [
    "def fgsm_attack(image, data_grad):\n",
    "    data_grad_chain = list(itertools.chain.from_iterable(data_grad[0][0]))\n",
    "    threshold = heapq.nlargest(20, list(map(abs, data_grad_chain)))[19]\n",
    "    perturbed_image = image + (data_grad >= threshold).float() - (data_grad <= -threshold).float()\n",
    "    perturbed_image = torch.clamp(perturbed_image, 0, 1)\n",
    "    return perturbed_image"
   ]
  },
  {
   "cell_type": "code",
   "execution_count": 16,
   "metadata": {},
   "outputs": [],
   "source": [
    "def fgsm_attack(image, data_grad):\n",
    "    data_grad_max = max(data_grad)\n",
    "    data_grad_min = min(data_grad)\n",
    "    perturbed_image = image + (data_grad == data_grad_max).float() - (data_grad == data_grad_min).float()\n",
    "    perturbed_image = torch.clamp(perturbed_image, 0, 1)\n",
    "    return perturbed_image"
   ]
  },
  {
   "cell_type": "code",
   "execution_count": 111,
   "metadata": {},
   "outputs": [],
   "source": [
    "def test( model, device, test_loader):\n",
    "\n",
    "    # 精度カウンター\n",
    "    correct = 0\n",
    "    adv_examples = []\n",
    "\n",
    "    # テスト用データセット内の全てのサンプルをループします\n",
    "    for data, target in test_loader:\n",
    "\n",
    "        # データとラベルをデバイス（CPUもしくはGPU）に送信します\n",
    "        data, target = data.to(device), target.to(device)\n",
    "\n",
    "        # テンソルの requires_grad 属性を設定します。攻撃者にとっては重要な設定です。\n",
    "        data.requires_grad = True\n",
    "\n",
    "        # データをモデルに順伝播させます\n",
    "        output = model(data)\n",
    "        init_pred = output.max(1, keepdim=True)[1] # 最大の確率のインデックスを取得します。\n",
    "\n",
    "        # 最初から予測が間違っている場合、攻撃する必要がないため次のイテレーションに進みます。\n",
    "        if init_pred.item() != target.item():\n",
    "            continue\n",
    "\n",
    "        # 損失を計算します\n",
    "        loss = F.nll_loss(output, target)\n",
    "\n",
    "        # 既存の勾配を全てゼロにします\n",
    "        model.zero_grad()\n",
    "\n",
    "        # 逆伝播させてモデルの勾配を計算します\n",
    "        loss.backward()\n",
    "\n",
    "        # データの勾配を取得します\n",
    "        data_grad = data.grad.data\n",
    "        \n",
    "        # FGSMによる攻撃の関数を呼び出します\n",
    "        perturbed_data = fgsm_attack(data, data_grad)\n",
    "\n",
    "        # ノイズ付き画像を再度分類します\n",
    "        output = model(perturbed_data)\n",
    "\n",
    "        # 攻撃の成功を確認します\n",
    "        final_pred = output.max(1, keepdim=True)[1] # log-probabilityが最大のインデックスを取得します\n",
    "\n",
    "        if final_pred.item() == target.item():\n",
    "            correct += 1\n",
    "        else:\n",
    "            # あとで可視化するために敵対的サンプルのうちいくつかを保存\n",
    "            if len(adv_examples) < 5:\n",
    "                adv_ex = perturbed_data.squeeze().detach().cpu().numpy()\n",
    "                adv_examples.append( (init_pred.item(), final_pred.item(), adv_ex) )\n",
    "\n",
    "\n",
    "    # epsilonごとの最終的な精度を算出\n",
    "    final_acc = correct/float(len(test_loader))\n",
    "    print(\"Test Accuracy = {} / {} = {}\".format(correct, len(test_loader), final_acc))\n",
    "\n",
    "    # 精度と敵対的サンプルを返却\n",
    "    return final_acc, adv_examples"
   ]
  },
  {
   "cell_type": "code",
   "execution_count": 112,
   "metadata": {},
   "outputs": [
    {
     "name": "stdout",
     "output_type": "stream",
     "text": [
      "Test Accuracy = 4412 / 10000 = 0.4412\n"
     ]
    }
   ],
   "source": [
    "accuracies = []\n",
    "examples = []\n",
    "\n",
    "# 各epsilonごとにテストを実行\n",
    "acc, ex = test(model, device, test_loader)\n",
    "accuracies.append(acc)\n",
    "examples.append(ex)"
   ]
  },
  {
   "cell_type": "code",
   "execution_count": 113,
   "metadata": {},
   "outputs": [
    {
     "data": {
      "image/png": "[encoded data removed]",
      "text/plain": [
       "<Figure size 576x720 with 5 Axes>"
      ]
     },
     "metadata": {},
     "output_type": "display_data"
    }
   ],
   "source": [
    "cnt = 0\n",
    "plt.figure(figsize=(8,10))\n",
    "\n",
    "for j in range(len(examples[0])):\n",
    "    cnt += 1\n",
    "    plt.subplot(1,len(examples[0]),cnt)\n",
    "    plt.xticks([], [])\n",
    "    plt.yticks([], [])\n",
    "    orig,adv,ex = examples[0][j]\n",
    "    plt.title(\"{} -> {}\".format(orig, adv))\n",
    "    plt.imshow(ex, cmap=\"gray\")\n",
    "plt.tight_layout()\n",
    "plt.show()"
   ]
  }
 ],
 "metadata": {
  "interpreter": {
   "hash": "f9f85f796d01129d0dd105a088854619f454435301f6ffec2fea96ecbd9be4ac"
  },
  "kernelspec": {
   "display_name": "Python 3.9.5 64-bit",
   "language": "python",
   "name": "python3"
  },
  "language_info": {
   "codemirror_mode": {
    "name": "ipython",
    "version": 3
   },
   "file_extension": ".py",
   "mimetype": "text/x-python",
   "name": "python",
   "nbconvert_exporter": "python",
   "pygments_lexer": "ipython3",
   "version": "3.9.5"
  },
  "orig_nbformat": 4
 },
 "nbformat": 4,
 "nbformat_minor": 2
}
